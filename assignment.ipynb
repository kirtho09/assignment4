{
 "cells": [
  {
   "cell_type": "code",
   "execution_count": 8,
   "metadata": {},
   "outputs": [
    {
     "name": "stdout",
     "output_type": "stream",
     "text": [
      "enter side 1   2\n",
      "enter side 2   3\n",
      "enter side 2   4\n",
      "area of triangle  0.0\n"
     ]
    }
   ],
   "source": [
    "def user_input():\n",
    "    a = int(input(\"enter side 1   \"))\n",
    "    b = int(input(\"enter side 2   \"))\n",
    "    c = int(input(\"enter side 2   \"))\n",
    "    result = area(a,b,c)\n",
    "    return result\n",
    "    \n",
    "def area(a,b,c):\n",
    "    s=(a+b+c)//3\n",
    "    q=(s*(s-a)*(s-b)*(s-c))**(0.5)\n",
    "    return q\n",
    "    \n",
    "    \n",
    "print(\"area of triangle \",user_input())"
   ]
  }
 ],
 "metadata": {
  "kernelspec": {
   "display_name": "Python 3",
   "language": "python",
   "name": "python3"
  },
  "language_info": {
   "codemirror_mode": {
    "name": "ipython",
    "version": 3
   },
   "file_extension": ".py",
   "mimetype": "text/x-python",
   "name": "python",
   "nbconvert_exporter": "python",
   "pygments_lexer": "ipython3",
   "version": "3.7.6"
  }
 },
 "nbformat": 4,
 "nbformat_minor": 4
}
